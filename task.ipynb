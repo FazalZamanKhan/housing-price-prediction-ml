{
 "cells": [
  {
   "cell_type": "markdown",
   "metadata": {},
   "source": [
    "# PHASE 1:"
   ]
  },
  {
   "cell_type": "markdown",
   "metadata": {},
   "source": [
    "DATA PREPROCESSING:\n"
   ]
  },
  {
   "cell_type": "code",
   "execution_count": 17,
   "metadata": {},
   "outputs": [
    {
     "name": "stdout",
     "output_type": "stream",
     "text": [
      "Final Features After Encoding:\n",
      " ['longitude', 'latitude', 'housing_median_age', 'total_rooms', 'total_bedrooms', 'population', 'households', 'median_income', 'median_house_value', 'ocean_proximity_INLAND', 'ocean_proximity_ISLAND', 'ocean_proximity_NEAR BAY', 'ocean_proximity_NEAR OCEAN']\n"
     ]
    }
   ],
   "source": [
    "# Phase 1: Data Preprocessing\n",
    "\n",
    "import pandas as pd\n",
    "import numpy as np\n",
    "from sklearn.model_selection import train_test_split\n",
    "from sklearn.preprocessing import StandardScaler\n",
    "from sklearn.impute import SimpleImputer\n",
    "\n",
    "# Load dataset\n",
    "df = pd.read_csv(\"housing.csv\")\n",
    "\n",
    "# Handle missing values (use median for total_bedrooms)\n",
    "imputer = SimpleImputer(strategy=\"median\")\n",
    "df[\"total_bedrooms\"] = imputer.fit_transform(df[[\"total_bedrooms\"]])\n",
    "\n",
    "# One-hot encode 'ocean_proximity' with drop_first=True (drops '<1H_OCEAN')\n",
    "df = pd.get_dummies(df, columns=[\"ocean_proximity\"], drop_first=True)\n",
    "\n",
    "# Final feature list for reference\n",
    "print(\"Final Features After Encoding:\\n\", df.columns.tolist())\n",
    "\n",
    "# Separate features and target\n",
    "X = df.drop(\"median_house_value\", axis=1)\n",
    "y = df[\"median_house_value\"]\n",
    "\n",
    "# Feature scaling\n",
    "scaler = StandardScaler()\n",
    "X_scaled = scaler.fit_transform(X)\n",
    "\n",
    "# Train-test split\n",
    "X_train, X_test, y_train, y_test = train_test_split(X_scaled, y, test_size=0.2, random_state=42)\n"
   ]
  },
  {
   "cell_type": "markdown",
   "metadata": {},
   "source": [
    "# PHASE 2:"
   ]
  },
  {
   "cell_type": "markdown",
   "metadata": {},
   "source": [
    "Model Development (Linear Regression with Gradient Descent Variants)"
   ]
  },
  {
   "cell_type": "code",
   "execution_count": 29,
   "metadata": {},
   "outputs": [
    {
     "name": "stderr",
     "output_type": "stream",
     "text": [
      "wandb: WARNING Calling wandb.login() after wandb.init() has no effect.\n"
     ]
    },
    {
     "data": {
      "text/html": [],
      "text/plain": [
       "<IPython.core.display.HTML object>"
      ]
     },
     "metadata": {},
     "output_type": "display_data"
    },
    {
     "data": {
      "text/html": [
       "<br>    <style><br>        .wandb-row {<br>            display: flex;<br>            flex-direction: row;<br>            flex-wrap: wrap;<br>            justify-content: flex-start;<br>            width: 100%;<br>        }<br>        .wandb-col {<br>            display: flex;<br>            flex-direction: column;<br>            flex-basis: 100%;<br>            flex: 1;<br>            padding: 10px;<br>        }<br>    </style><br><div class=\"wandb-row\"><div class=\"wandb-col\"><h3>Run history:</h3><br/><table class=\"wandb\"><tr><td>epoch</td><td>▁▁▁▁▁▂▂▂▂▂▃▃▃▃▄▄▄▄▄▄▅▅▅▅▅▆▆▆▆▆▇▇▇▇▇▇████</td></tr><tr><td>test_mse</td><td>▁</td></tr><tr><td>train_loss</td><td>█▇▆▃▃▂▂▂▂▁▁▁▁▁▁▁▁▁▁▁▁▁▁▁▁▁▁▁▁▁▁▁▁▁▁▁▁▁▁▁</td></tr></table><br/></div><div class=\"wandb-col\"><h3>Run summary:</h3><br/><table class=\"wandb\"><tr><td>epoch</td><td>100</td></tr><tr><td>test_mse</td><td>4898769205.07209</td></tr><tr><td>train_loss</td><td>4684929871.44628</td></tr></table><br/></div></div>"
      ],
      "text/plain": [
       "<IPython.core.display.HTML object>"
      ]
     },
     "metadata": {},
     "output_type": "display_data"
    },
    {
     "data": {
      "text/html": [
       " View run <strong style=\"color:#cdcd00\">sgd-l1-manual-logging</strong> at: <a href='https://wandb.ai/fazalzamanper-fast-university/california-housing-price/runs/a95k508x' target=\"_blank\">https://wandb.ai/fazalzamanper-fast-university/california-housing-price/runs/a95k508x</a><br> View project at: <a href='https://wandb.ai/fazalzamanper-fast-university/california-housing-price' target=\"_blank\">https://wandb.ai/fazalzamanper-fast-university/california-housing-price</a><br>Synced 5 W&B file(s), 1 media file(s), 0 artifact file(s) and 0 other file(s)"
      ],
      "text/plain": [
       "<IPython.core.display.HTML object>"
      ]
     },
     "metadata": {},
     "output_type": "display_data"
    },
    {
     "data": {
      "text/html": [
       "Find logs at: <code>.\\wandb\\run-20250413_020305-a95k508x\\logs</code>"
      ],
      "text/plain": [
       "<IPython.core.display.HTML object>"
      ]
     },
     "metadata": {},
     "output_type": "display_data"
    },
    {
     "data": {
      "text/html": [
       "Tracking run with wandb version 0.19.9"
      ],
      "text/plain": [
       "<IPython.core.display.HTML object>"
      ]
     },
     "metadata": {},
     "output_type": "display_data"
    },
    {
     "data": {
      "text/html": [
       "Run data is saved locally in <code>c:\\Users\\fa33z\\Desktop\\ML A#3\\wandb\\run-20250413_020524-vxo9nku8</code>"
      ],
      "text/plain": [
       "<IPython.core.display.HTML object>"
      ]
     },
     "metadata": {},
     "output_type": "display_data"
    },
    {
     "data": {
      "text/html": [
       "Syncing run <strong><a href='https://wandb.ai/fazalzamanper-fast-university/california-housing-price/runs/vxo9nku8' target=\"_blank\">sgd-l1-manual-logging</a></strong> to <a href='https://wandb.ai/fazalzamanper-fast-university/california-housing-price' target=\"_blank\">Weights & Biases</a> (<a href='https://wandb.me/developer-guide' target=\"_blank\">docs</a>)<br>"
      ],
      "text/plain": [
       "<IPython.core.display.HTML object>"
      ]
     },
     "metadata": {},
     "output_type": "display_data"
    },
    {
     "data": {
      "text/html": [
       " View project at <a href='https://wandb.ai/fazalzamanper-fast-university/california-housing-price' target=\"_blank\">https://wandb.ai/fazalzamanper-fast-university/california-housing-price</a>"
      ],
      "text/plain": [
       "<IPython.core.display.HTML object>"
      ]
     },
     "metadata": {},
     "output_type": "display_data"
    },
    {
     "data": {
      "text/html": [
       " View run at <a href='https://wandb.ai/fazalzamanper-fast-university/california-housing-price/runs/vxo9nku8' target=\"_blank\">https://wandb.ai/fazalzamanper-fast-university/california-housing-price/runs/vxo9nku8</a>"
      ],
      "text/plain": [
       "<IPython.core.display.HTML object>"
      ]
     },
     "metadata": {},
     "output_type": "display_data"
    },
    {
     "name": "stdout",
     "output_type": "stream",
     "text": [
      "Epoch 1, Train Loss: 6860635731.41\n",
      "Epoch 2, Train Loss: 5085280002.00\n",
      "Epoch 3, Train Loss: 4946386516.31\n",
      "Epoch 4, Train Loss: 4892208422.68\n",
      "Epoch 5, Train Loss: 4854937253.96\n",
      "Epoch 6, Train Loss: 4827138428.25\n",
      "Epoch 7, Train Loss: 4805734620.23\n",
      "Epoch 8, Train Loss: 4788836820.15\n",
      "Epoch 9, Train Loss: 4775204295.90\n",
      "Epoch 10, Train Loss: 4764000171.84\n",
      "Epoch 11, Train Loss: 4754647285.41\n",
      "Epoch 12, Train Loss: 4746738374.65\n",
      "Epoch 13, Train Loss: 4739979141.45\n",
      "Epoch 14, Train Loss: 4734151759.72\n",
      "Epoch 15, Train Loss: 4729091223.89\n",
      "Epoch 16, Train Loss: 4724669817.56\n",
      "Epoch 17, Train Loss: 4720786755.62\n",
      "Epoch 18, Train Loss: 4717361152.60\n",
      "Epoch 19, Train Loss: 4714327153.31\n",
      "Epoch 20, Train Loss: 4711630487.88\n",
      "Epoch 21, Train Loss: 4709225980.14\n",
      "Epoch 22, Train Loss: 4707075705.37\n",
      "Epoch 23, Train Loss: 4705147599.53\n",
      "Epoch 24, Train Loss: 4703414388.80\n",
      "Epoch 25, Train Loss: 4701852751.58\n",
      "Epoch 26, Train Loss: 4700442652.69\n",
      "Epoch 27, Train Loss: 4699166807.70\n",
      "Epoch 28, Train Loss: 4698010247.54\n",
      "Epoch 29, Train Loss: 4696959961.48\n",
      "Epoch 30, Train Loss: 4696004602.36\n",
      "Epoch 31, Train Loss: 4695134241.67\n",
      "Epoch 32, Train Loss: 4694340165.14\n",
      "Epoch 33, Train Loss: 4693614701.32\n",
      "Epoch 34, Train Loss: 4692951077.26\n",
      "Epoch 35, Train Loss: 4692343296.69\n",
      "Epoch 36, Train Loss: 4691786036.79\n",
      "Epoch 37, Train Loss: 4691274560.36\n",
      "Epoch 38, Train Loss: 4690804641.14\n",
      "Epoch 39, Train Loss: 4690372499.76\n",
      "Epoch 40, Train Loss: 4689974749.02\n",
      "Epoch 41, Train Loss: 4689608346.71\n",
      "Epoch 42, Train Loss: 4689270555.05\n",
      "Epoch 43, Train Loss: 4688958905.49\n",
      "Epoch 44, Train Loss: 4688671168.32\n",
      "Epoch 45, Train Loss: 4688405326.16\n",
      "Epoch 46, Train Loss: 4688159550.89\n",
      "Epoch 47, Train Loss: 4687932183.43\n",
      "Epoch 48, Train Loss: 4687721716.05\n",
      "Epoch 49, Train Loss: 4687526776.80\n",
      "Epoch 50, Train Loss: 4687346115.79\n",
      "Epoch 51, Train Loss: 4687178593.03\n",
      "Epoch 52, Train Loss: 4687023167.69\n",
      "Epoch 53, Train Loss: 4686878888.58\n",
      "Epoch 54, Train Loss: 4686744885.57\n",
      "Epoch 55, Train Loss: 4686620362.04\n",
      "Epoch 56, Train Loss: 4686504588.10\n",
      "Epoch 57, Train Loss: 4686396894.45\n",
      "Epoch 58, Train Loss: 4686296666.96\n",
      "Epoch 59, Train Loss: 4686203341.73\n",
      "Epoch 60, Train Loss: 4686116400.65\n",
      "Epoch 61, Train Loss: 4686035367.40\n",
      "Epoch 62, Train Loss: 4685959803.82\n",
      "Epoch 63, Train Loss: 4685889306.68\n",
      "Epoch 64, Train Loss: 4685823504.64\n",
      "Epoch 65, Train Loss: 4685762055.58\n",
      "Epoch 66, Train Loss: 4685704644.17\n",
      "Epoch 67, Train Loss: 4685650979.61\n",
      "Epoch 68, Train Loss: 4685600793.61\n",
      "Epoch 69, Train Loss: 4685553838.55\n",
      "Epoch 70, Train Loss: 4685509885.77\n",
      "Epoch 71, Train Loss: 4685468724.02\n",
      "Epoch 72, Train Loss: 4685430158.08\n",
      "Epoch 73, Train Loss: 4685394007.47\n",
      "Epoch 74, Train Loss: 4685360105.24\n",
      "Epoch 75, Train Loss: 4685328296.91\n",
      "Epoch 76, Train Loss: 4685298439.49\n",
      "Epoch 77, Train Loss: 4685270400.56\n",
      "Epoch 78, Train Loss: 4685244057.44\n",
      "Epoch 79, Train Loss: 4685219296.43\n",
      "Epoch 80, Train Loss: 4685196012.12\n",
      "Epoch 81, Train Loss: 4685174106.73\n",
      "Epoch 82, Train Loss: 4685153489.52\n",
      "Epoch 83, Train Loss: 4685134076.29\n",
      "Epoch 84, Train Loss: 4685115788.81\n",
      "Epoch 85, Train Loss: 4685098554.42\n",
      "Epoch 86, Train Loss: 4685082305.60\n",
      "Epoch 87, Train Loss: 4685066979.54\n",
      "Epoch 88, Train Loss: 4685052517.84\n",
      "Epoch 89, Train Loss: 4685038866.14\n",
      "Epoch 90, Train Loss: 4685025973.85\n",
      "Epoch 91, Train Loss: 4685013793.85\n",
      "Epoch 92, Train Loss: 4685002282.21\n",
      "Epoch 93, Train Loss: 4684991398.02\n",
      "Epoch 94, Train Loss: 4684981103.11\n",
      "Epoch 95, Train Loss: 4684971361.87\n",
      "Epoch 96, Train Loss: 4684962141.07\n",
      "Epoch 97, Train Loss: 4684953409.67\n",
      "Epoch 98, Train Loss: 4684945138.70\n",
      "Epoch 99, Train Loss: 4684937301.07\n",
      "Epoch 100, Train Loss: 4684929871.45\n"
     ]
    },
    {
     "data": {
      "text/html": [],
      "text/plain": [
       "<IPython.core.display.HTML object>"
      ]
     },
     "metadata": {},
     "output_type": "display_data"
    },
    {
     "data": {
      "text/html": [
       "<br>    <style><br>        .wandb-row {<br>            display: flex;<br>            flex-direction: row;<br>            flex-wrap: wrap;<br>            justify-content: flex-start;<br>            width: 100%;<br>        }<br>        .wandb-col {<br>            display: flex;<br>            flex-direction: column;<br>            flex-basis: 100%;<br>            flex: 1;<br>            padding: 10px;<br>        }<br>    </style><br><div class=\"wandb-row\"><div class=\"wandb-col\"><h3>Run history:</h3><br/><table class=\"wandb\"><tr><td>epoch</td><td>▁▁▁▁▂▂▂▂▂▂▃▃▃▃▃▃▃▃▄▄▄▄▄▄▅▅▅▅▅▆▆▆▆▆▇▇▇███</td></tr><tr><td>test_mse</td><td>▁</td></tr><tr><td>train_loss</td><td>█▂▂▁▁▁▁▁▁▁▁▁▁▁▁▁▁▁▁▁▁▁▁▁▁▁▁▁▁▁▁▁▁▁▁▁▁▁▁▁</td></tr></table><br/></div><div class=\"wandb-col\"><h3>Run summary:</h3><br/><table class=\"wandb\"><tr><td>epoch</td><td>100</td></tr><tr><td>test_mse</td><td>4898769205.07209</td></tr><tr><td>train_loss</td><td>4684929871.44628</td></tr></table><br/></div></div>"
      ],
      "text/plain": [
       "<IPython.core.display.HTML object>"
      ]
     },
     "metadata": {},
     "output_type": "display_data"
    },
    {
     "data": {
      "text/html": [
       " View run <strong style=\"color:#cdcd00\">sgd-l1-manual-logging</strong> at: <a href='https://wandb.ai/fazalzamanper-fast-university/california-housing-price/runs/vxo9nku8' target=\"_blank\">https://wandb.ai/fazalzamanper-fast-university/california-housing-price/runs/vxo9nku8</a><br> View project at: <a href='https://wandb.ai/fazalzamanper-fast-university/california-housing-price' target=\"_blank\">https://wandb.ai/fazalzamanper-fast-university/california-housing-price</a><br>Synced 5 W&B file(s), 1 media file(s), 0 artifact file(s) and 0 other file(s)"
      ],
      "text/plain": [
       "<IPython.core.display.HTML object>"
      ]
     },
     "metadata": {},
     "output_type": "display_data"
    },
    {
     "data": {
      "text/html": [
       "Find logs at: <code>.\\wandb\\run-20250413_020524-vxo9nku8\\logs</code>"
      ],
      "text/plain": [
       "<IPython.core.display.HTML object>"
      ]
     },
     "metadata": {},
     "output_type": "display_data"
    },
    {
     "data": {
      "image/png": "[encoded data removed]",
      "text/plain": [
       "<Figure size 800x400 with 1 Axes>"
      ]
     },
     "metadata": {},
     "output_type": "display_data"
    }
   ],
   "source": [
    "import pandas as pd\n",
    "import numpy as np\n",
    "from sklearn.model_selection import train_test_split\n",
    "from sklearn.preprocessing import StandardScaler\n",
    "from sklearn.impute import SimpleImputer\n",
    "from sklearn.linear_model import SGDRegressor\n",
    "from sklearn.metrics import mean_squared_error\n",
    "import matplotlib.pyplot as plt\n",
    "import joblib\n",
    "import wandb\n",
    "\n",
    "# Login to Weights & Biases\n",
    "wandb.login()\n",
    "\n",
    "# Initialize wandb run\n",
    "wandb.init(\n",
    "    project=\"california-housing-price\",\n",
    "    name=\"sgd-l1-manual-logging\",\n",
    "    config={\n",
    "        \"model\": \"SGDRegressor\",\n",
    "        \"loss\": \"squared_error\",\n",
    "        \"penalty\": \"l1\",\n",
    "        \"learning_rate\": \"constant\",\n",
    "        \"eta0\": 0.0001,\n",
    "        \"early_stopping\": True,\n",
    "        \"max_iter\": 1000,\n",
    "        \"validation_fraction\": 0.1,\n",
    "        \"random_state\": 42,\n",
    "        \"test_size\": 0.2,\n",
    "        \"epochs\": 100\n",
    "    }\n",
    ")\n",
    "\n",
    "# Load and preprocess data\n",
    "df = pd.read_csv(\"housing.csv\")\n",
    "\n",
    "# Impute missing values\n",
    "imputer = SimpleImputer(strategy=\"median\")\n",
    "df[\"total_bedrooms\"] = imputer.fit_transform(df[[\"total_bedrooms\"]])\n",
    "\n",
    "# One-hot encoding\n",
    "df = pd.get_dummies(df, columns=[\"ocean_proximity\"])\n",
    "\n",
    "# Save feature names\n",
    "feature_names = df.drop(\"median_house_value\", axis=1).columns.tolist()\n",
    "\n",
    "X = df.drop(\"median_house_value\", axis=1)\n",
    "y = df[\"median_house_value\"]\n",
    "\n",
    "# Scale features\n",
    "scaler = StandardScaler()\n",
    "X_scaled = scaler.fit_transform(X)\n",
    "\n",
    "# Split data\n",
    "X_train, X_test, y_train, y_test = train_test_split(\n",
    "    X_scaled, y, test_size=0.2, random_state=42\n",
    ")\n",
    "\n",
    "# Initialize model\n",
    "model = SGDRegressor(\n",
    "    max_iter=1,  # We manually control epochs\n",
    "    learning_rate='constant',\n",
    "    eta0=0.0001,\n",
    "    penalty='l1',\n",
    "    warm_start=True,\n",
    "    random_state=42\n",
    ")\n",
    "\n",
    "# Custom training loop with early stopping\n",
    "epochs = 100\n",
    "best_loss = float(\"inf\")\n",
    "patience = 10\n",
    "patience_counter = 0\n",
    "\n",
    "train_losses = []\n",
    "\n",
    "for epoch in range(epochs):\n",
    "    model.partial_fit(X_train, y_train)\n",
    "    preds = model.predict(X_train)\n",
    "    train_loss = mean_squared_error(y_train, preds)\n",
    "\n",
    "    wandb.log({\"epoch\": epoch + 1, \"train_loss\": train_loss})\n",
    "    train_losses.append(train_loss)\n",
    "\n",
    "    print(f\"Epoch {epoch + 1}, Train Loss: {train_loss:.2f}\")\n",
    "\n",
    "    # Early stopping\n",
    "    if train_loss < best_loss:\n",
    "        best_loss = train_loss\n",
    "        patience_counter = 0\n",
    "    else:\n",
    "        patience_counter += 1\n",
    "\n",
    "    if patience_counter >= patience:\n",
    "        print(\"Early stopping triggered.\")\n",
    "        break\n",
    "\n",
    "# Evaluate on test set\n",
    "y_pred = model.predict(X_test)\n",
    "test_mse = mean_squared_error(y_test, y_pred)\n",
    "wandb.log({\"test_mse\": test_mse})\n",
    "\n",
    "# Plot train loss\n",
    "plt.figure(figsize=(8, 4))\n",
    "plt.plot(range(1, len(train_losses) + 1), train_losses, label=\"Train Loss\")\n",
    "plt.xlabel(\"Epoch\")\n",
    "plt.ylabel(\"Loss\")\n",
    "plt.title(\"Training Loss Over Epochs\")\n",
    "plt.grid(True)\n",
    "plt.legend()\n",
    "plt.savefig(\"loss_curve.png\")\n",
    "wandb.log({\"loss_curve\": wandb.Image(\"loss_curve.png\")})\n",
    "\n",
    "# Save model, scaler, and features\n",
    "joblib.dump(model, \"model.pkl\")\n",
    "joblib.dump(scaler, \"scaler.pkl\")\n",
    "joblib.dump(feature_names, \"feature_names.pkl\")\n",
    "\n",
    "# Save model, scaler, and features\n",
    "joblib.dump(model, \"model.pkl\")\n",
    "joblib.dump(scaler, \"scaler.pkl\")\n",
    "joblib.dump(feature_names, \"feature_names.pkl\")\n",
    "\n",
    "wandb.finish()\n"
   ]
  }
 ],
 "metadata": {
  "kernelspec": {
   "display_name": "Python 3",
   "language": "python",
   "name": "python3"
  },
  "language_info": {
   "codemirror_mode": {
    "name": "ipython",
    "version": 3
   },
   "file_extension": ".py",
   "mimetype": "text/x-python",
   "name": "python",
   "nbconvert_exporter": "python",
   "pygments_lexer": "ipython3",
   "version": "3.12.6"
  }
 },
 "nbformat": 4,
 "nbformat_minor": 2
}
